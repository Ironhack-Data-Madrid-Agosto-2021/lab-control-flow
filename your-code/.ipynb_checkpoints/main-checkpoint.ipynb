{
 "cells": [
  {
   "cell_type": "markdown",
   "metadata": {},
   "source": [
    "## Words"
   ]
  },
  {
   "cell_type": "code",
   "execution_count": 1,
   "metadata": {},
   "outputs": [],
   "source": [
    "words = ['play', 'filling', 'bar', 'theatre', 'easygoing', 'date', 'lead', 'that', 'story',  'island']"
   ]
  },
  {
   "cell_type": "markdown",
   "metadata": {},
   "source": [
    "**Print every word in upper case**"
   ]
  },
  {
   "cell_type": "code",
   "execution_count": 5,
   "metadata": {},
   "outputs": [
    {
     "name": "stdout",
     "output_type": "stream",
     "text": [
      "PLAY\n",
      "FILLING\n",
      "BAR\n",
      "THEATRE\n",
      "EASYGOING\n",
      "DATE\n",
      "LEAD\n",
      "THAT\n",
      "STORY\n",
      "ISLAND\n"
     ]
    }
   ],
   "source": [
    "# your code here\n",
    "for word in words:\n",
    "    print(word.upper())"
   ]
  },
  {
   "cell_type": "markdown",
   "metadata": {},
   "source": [
    "**Create a new list containing only words with 5 or more letters**"
   ]
  },
  {
   "cell_type": "code",
   "execution_count": 15,
   "metadata": {},
   "outputs": [
    {
     "name": "stdout",
     "output_type": "stream",
     "text": [
      "['filling', 'theatre', 'easygoing', 'story', 'island']\n"
     ]
    }
   ],
   "source": [
    "# your code here\n",
    "new_list = []\n",
    "for word in words:\n",
    "    if len(word) >= 5:\n",
    "        new_list.append(word)\n",
    "print(new_list)"
   ]
  },
  {
   "cell_type": "markdown",
   "metadata": {},
   "source": [
    "**Print the first word starting with \"t\"**"
   ]
  },
  {
   "cell_type": "code",
   "execution_count": 16,
   "metadata": {},
   "outputs": [
    {
     "name": "stdout",
     "output_type": "stream",
     "text": [
      "theatre\n"
     ]
    }
   ],
   "source": [
    "# your code here\n",
    "for word in words:\n",
    "    if word[0] == 't':\n",
    "        print(word)\n",
    "        break"
   ]
  },
  {
   "cell_type": "markdown",
   "metadata": {},
   "source": [
    "## Numbers"
   ]
  },
  {
   "cell_type": "markdown",
   "metadata": {},
   "source": [
    "**Create a list containing the square of every number from 1 to 10**"
   ]
  },
  {
   "cell_type": "code",
   "execution_count": 19,
   "metadata": {},
   "outputs": [
    {
     "name": "stdout",
     "output_type": "stream",
     "text": [
      "[0, 1, 4, 9, 16, 25, 36, 49, 64, 81, 100]\n"
     ]
    }
   ],
   "source": [
    "# your code here\n",
    "squares = []\n",
    "for n in range(11):\n",
    "    squares.append(n**2)\n",
    "print(squares)"
   ]
  },
  {
   "cell_type": "markdown",
   "metadata": {},
   "source": [
    "**Print a list containing the square of every odd number from 1 to 10**"
   ]
  },
  {
   "cell_type": "code",
   "execution_count": 21,
   "metadata": {},
   "outputs": [
    {
     "name": "stdout",
     "output_type": "stream",
     "text": [
      "[1, 9, 25, 49, 81]\n"
     ]
    }
   ],
   "source": [
    "# your code here\n",
    "squares_odd = []\n",
    "for n in range(11):\n",
    "    if n % 2 != 0:\n",
    "        squares_odd.append(n**2)\n",
    "print(squares_odd)"
   ]
  },
  {
   "cell_type": "markdown",
   "metadata": {},
   "source": [
    "**Create a list with the squares of all multiples of 8 below 1000**"
   ]
  },
  {
   "cell_type": "code",
   "execution_count": 32,
   "metadata": {},
   "outputs": [
    {
     "name": "stdout",
     "output_type": "stream",
     "text": [
      "[0, 64, 256, 576, 1024, 1600, 2304, 3136, 4096, 5184, 6400, 7744, 9216, 10816, 12544, 14400, 16384, 18496, 20736, 23104, 25600, 28224, 30976, 33856, 36864, 40000, 43264, 46656, 50176, 53824, 57600, 61504, 65536, 69696, 73984, 78400, 82944, 87616, 92416, 97344, 102400, 107584, 112896, 118336, 123904, 129600, 135424, 141376, 147456, 153664, 160000, 166464, 173056, 179776, 186624, 193600, 200704, 207936, 215296, 222784, 230400, 238144, 246016, 254016, 262144, 270400, 278784, 287296, 295936, 304704, 313600, 322624, 331776, 341056, 350464, 360000, 369664, 379456, 389376, 399424, 409600, 419904, 430336, 440896, 451584, 462400, 473344, 484416, 495616, 506944, 518400, 529984, 541696, 553536, 565504, 577600, 589824, 602176, 614656, 627264, 640000, 652864, 665856, 678976, 692224, 705600, 719104, 732736, 746496, 760384, 774400, 788544, 802816, 817216, 831744, 846400, 861184, 876096, 891136, 906304, 921600, 937024, 952576, 968256, 984064]\n"
     ]
    }
   ],
   "source": [
    "# your code here\n",
    "multiples_of_8 = []\n",
    "for n in range(1000):\n",
    "    if n % 8 == 0:\n",
    "        multiples_of_8.append(n**2)\n",
    "print(multiples_of_8)"
   ]
  },
  {
   "cell_type": "markdown",
   "metadata": {},
   "source": [
    "## People"
   ]
  },
  {
   "cell_type": "code",
   "execution_count": 82,
   "metadata": {},
   "outputs": [],
   "source": [
    "people = [\n",
    "    {\n",
    "        \"name\": \"Juan\",\n",
    "        \"age\": 34,\n",
    "        \"n_kids\": 2\n",
    "    },\n",
    "    {\n",
    "        \"name\": \"Pepe\",\n",
    "        \"age\": 27,\n",
    "        \"n_kids\": 0\n",
    "    },\n",
    "    {\n",
    "        \"name\": \"Sonia\",\n",
    "        \"age\": 41,\n",
    "        \"n_kids\": 1\n",
    "    },\n",
    "    {\n",
    "        \"name\": \"Lucía\",\n",
    "        \"age\": 22,\n",
    "        \"n_kids\": 2\n",
    "    },\n",
    "    {\n",
    "        \"name\": \"Leo\",\n",
    "        \"age\": 55,\n",
    "        \"n_kids\": 5\n",
    "    }\n",
    "]"
   ]
  },
  {
   "cell_type": "markdown",
   "metadata": {},
   "source": [
    "**How many people are there?**"
   ]
  },
  {
   "cell_type": "code",
   "execution_count": 83,
   "metadata": {},
   "outputs": [
    {
     "name": "stdout",
     "output_type": "stream",
     "text": [
      "There are 5 people\n"
     ]
    }
   ],
   "source": [
    "# your code here\n",
    "print('There are', len(people), 'people')"
   ]
  },
  {
   "cell_type": "markdown",
   "metadata": {},
   "source": [
    "**How many people have kids**?"
   ]
  },
  {
   "cell_type": "code",
   "execution_count": 84,
   "metadata": {},
   "outputs": [
    {
     "data": {
      "text/plain": [
       "4"
      ]
     },
     "execution_count": 84,
     "metadata": {},
     "output_type": "execute_result"
    }
   ],
   "source": [
    "# your code here\n",
    "people_with_kids = []\n",
    "for person in people:\n",
    "    if person['n_kids'] > 0:\n",
    "        people_with_kids.append(person)\n",
    "len(people_with_kids)\n",
    "    "
   ]
  },
  {
   "cell_type": "markdown",
   "metadata": {},
   "source": [
    "**How many kids do they have in total?**"
   ]
  },
  {
   "cell_type": "code",
   "execution_count": 85,
   "metadata": {},
   "outputs": [
    {
     "name": "stdout",
     "output_type": "stream",
     "text": [
      "10\n"
     ]
    }
   ],
   "source": [
    "# your code here\n",
    "count = 0\n",
    "for person in people:\n",
    "    if person['n_kids'] > 0:\n",
    "        count += person['n_kids']\n",
    "print(count)"
   ]
  },
  {
   "cell_type": "markdown",
   "metadata": {},
   "source": [
    "**In a year's time, names ending with \"a\" will have an extra kid. Create a dictionary with people's info in a year's time**"
   ]
  },
  {
   "cell_type": "code",
   "execution_count": 86,
   "metadata": {},
   "outputs": [
    {
     "data": {
      "text/plain": [
       "[{'name': 'Juan', 'age': 35, 'n_kids': 2},\n",
       " {'name': 'Pepe', 'age': 28, 'n_kids': 0},\n",
       " {'name': 'Sonia', 'age': 42, 'n_kids': 2},\n",
       " {'name': 'Sonia', 'age': 42, 'n_kids': 2},\n",
       " {'name': 'Lucía', 'age': 23, 'n_kids': 3},\n",
       " {'name': 'Lucía', 'age': 23, 'n_kids': 3},\n",
       " {'name': 'Leo', 'age': 56, 'n_kids': 5}]"
      ]
     },
     "execution_count": 86,
     "metadata": {},
     "output_type": "execute_result"
    }
   ],
   "source": [
    "year_time_list = []\n",
    "\n",
    "for person in people:\n",
    "    if person['name'][-1] == 'a':\n",
    "        person['n_kids'] += 1\n",
    "        year_time_list.append(person)\n",
    "    person['age'] += 1\n",
    "    year_time_list.append(person)\n",
    "year_time_list"
   ]
  },
  {
   "cell_type": "markdown",
   "metadata": {},
   "source": [
    "# BONUS 2 exercise: If we list all the natural numbers below 10 that are multiples of 3 or 5, we get 3, 5, 6 and 9. The sum of these multiples is 23.\n",
    "Find the sum of all the multiples of 3 or 5 below 1000."
   ]
  },
  {
   "cell_type": "code",
   "execution_count": 90,
   "metadata": {},
   "outputs": [],
   "source": [
    "multiples_below_1k = []\n",
    "for n in range(1000):\n",
    "    if n % 3 == 0 or n % 5 == 0:\n",
    "        multiples_below_1k.append(n)"
   ]
  },
  {
   "cell_type": "code",
   "execution_count": 89,
   "metadata": {
    "collapsed": true
   },
   "outputs": [
    {
     "data": {
      "text/plain": [
       "[0,\n",
       " 3,\n",
       " 5,\n",
       " 6,\n",
       " 9,\n",
       " 10,\n",
       " 12,\n",
       " 15,\n",
       " 18,\n",
       " 20,\n",
       " 21,\n",
       " 24,\n",
       " 25,\n",
       " 27,\n",
       " 30,\n",
       " 33,\n",
       " 35,\n",
       " 36,\n",
       " 39,\n",
       " 40,\n",
       " 42,\n",
       " 45,\n",
       " 48,\n",
       " 50,\n",
       " 51,\n",
       " 54,\n",
       " 55,\n",
       " 57,\n",
       " 60,\n",
       " 63,\n",
       " 65,\n",
       " 66,\n",
       " 69,\n",
       " 70,\n",
       " 72,\n",
       " 75,\n",
       " 78,\n",
       " 80,\n",
       " 81,\n",
       " 84,\n",
       " 85,\n",
       " 87,\n",
       " 90,\n",
       " 93,\n",
       " 95,\n",
       " 96,\n",
       " 99,\n",
       " 100,\n",
       " 102,\n",
       " 105,\n",
       " 108,\n",
       " 110,\n",
       " 111,\n",
       " 114,\n",
       " 115,\n",
       " 117,\n",
       " 120,\n",
       " 123,\n",
       " 125,\n",
       " 126,\n",
       " 129,\n",
       " 130,\n",
       " 132,\n",
       " 135,\n",
       " 138,\n",
       " 140,\n",
       " 141,\n",
       " 144,\n",
       " 145,\n",
       " 147,\n",
       " 150,\n",
       " 153,\n",
       " 155,\n",
       " 156,\n",
       " 159,\n",
       " 160,\n",
       " 162,\n",
       " 165,\n",
       " 168,\n",
       " 170,\n",
       " 171,\n",
       " 174,\n",
       " 175,\n",
       " 177,\n",
       " 180,\n",
       " 183,\n",
       " 185,\n",
       " 186,\n",
       " 189,\n",
       " 190,\n",
       " 192,\n",
       " 195,\n",
       " 198,\n",
       " 200,\n",
       " 201,\n",
       " 204,\n",
       " 205,\n",
       " 207,\n",
       " 210,\n",
       " 213,\n",
       " 215,\n",
       " 216,\n",
       " 219,\n",
       " 220,\n",
       " 222,\n",
       " 225,\n",
       " 228,\n",
       " 230,\n",
       " 231,\n",
       " 234,\n",
       " 235,\n",
       " 237,\n",
       " 240,\n",
       " 243,\n",
       " 245,\n",
       " 246,\n",
       " 249,\n",
       " 250,\n",
       " 252,\n",
       " 255,\n",
       " 258,\n",
       " 260,\n",
       " 261,\n",
       " 264,\n",
       " 265,\n",
       " 267,\n",
       " 270,\n",
       " 273,\n",
       " 275,\n",
       " 276,\n",
       " 279,\n",
       " 280,\n",
       " 282,\n",
       " 285,\n",
       " 288,\n",
       " 290,\n",
       " 291,\n",
       " 294,\n",
       " 295,\n",
       " 297,\n",
       " 300,\n",
       " 303,\n",
       " 305,\n",
       " 306,\n",
       " 309,\n",
       " 310,\n",
       " 312,\n",
       " 315,\n",
       " 318,\n",
       " 320,\n",
       " 321,\n",
       " 324,\n",
       " 325,\n",
       " 327,\n",
       " 330,\n",
       " 333,\n",
       " 335,\n",
       " 336,\n",
       " 339,\n",
       " 340,\n",
       " 342,\n",
       " 345,\n",
       " 348,\n",
       " 350,\n",
       " 351,\n",
       " 354,\n",
       " 355,\n",
       " 357,\n",
       " 360,\n",
       " 363,\n",
       " 365,\n",
       " 366,\n",
       " 369,\n",
       " 370,\n",
       " 372,\n",
       " 375,\n",
       " 378,\n",
       " 380,\n",
       " 381,\n",
       " 384,\n",
       " 385,\n",
       " 387,\n",
       " 390,\n",
       " 393,\n",
       " 395,\n",
       " 396,\n",
       " 399,\n",
       " 400,\n",
       " 402,\n",
       " 405,\n",
       " 408,\n",
       " 410,\n",
       " 411,\n",
       " 414,\n",
       " 415,\n",
       " 417,\n",
       " 420,\n",
       " 423,\n",
       " 425,\n",
       " 426,\n",
       " 429,\n",
       " 430,\n",
       " 432,\n",
       " 435,\n",
       " 438,\n",
       " 440,\n",
       " 441,\n",
       " 444,\n",
       " 445,\n",
       " 447,\n",
       " 450,\n",
       " 453,\n",
       " 455,\n",
       " 456,\n",
       " 459,\n",
       " 460,\n",
       " 462,\n",
       " 465,\n",
       " 468,\n",
       " 470,\n",
       " 471,\n",
       " 474,\n",
       " 475,\n",
       " 477,\n",
       " 480,\n",
       " 483,\n",
       " 485,\n",
       " 486,\n",
       " 489,\n",
       " 490,\n",
       " 492,\n",
       " 495,\n",
       " 498,\n",
       " 500,\n",
       " 501,\n",
       " 504,\n",
       " 505,\n",
       " 507,\n",
       " 510,\n",
       " 513,\n",
       " 515,\n",
       " 516,\n",
       " 519,\n",
       " 520,\n",
       " 522,\n",
       " 525,\n",
       " 528,\n",
       " 530,\n",
       " 531,\n",
       " 534,\n",
       " 535,\n",
       " 537,\n",
       " 540,\n",
       " 543,\n",
       " 545,\n",
       " 546,\n",
       " 549,\n",
       " 550,\n",
       " 552,\n",
       " 555,\n",
       " 558,\n",
       " 560,\n",
       " 561,\n",
       " 564,\n",
       " 565,\n",
       " 567,\n",
       " 570,\n",
       " 573,\n",
       " 575,\n",
       " 576,\n",
       " 579,\n",
       " 580,\n",
       " 582,\n",
       " 585,\n",
       " 588,\n",
       " 590,\n",
       " 591,\n",
       " 594,\n",
       " 595,\n",
       " 597,\n",
       " 600,\n",
       " 603,\n",
       " 605,\n",
       " 606,\n",
       " 609,\n",
       " 610,\n",
       " 612,\n",
       " 615,\n",
       " 618,\n",
       " 620,\n",
       " 621,\n",
       " 624,\n",
       " 625,\n",
       " 627,\n",
       " 630,\n",
       " 633,\n",
       " 635,\n",
       " 636,\n",
       " 639,\n",
       " 640,\n",
       " 642,\n",
       " 645,\n",
       " 648,\n",
       " 650,\n",
       " 651,\n",
       " 654,\n",
       " 655,\n",
       " 657,\n",
       " 660,\n",
       " 663,\n",
       " 665,\n",
       " 666,\n",
       " 669,\n",
       " 670,\n",
       " 672,\n",
       " 675,\n",
       " 678,\n",
       " 680,\n",
       " 681,\n",
       " 684,\n",
       " 685,\n",
       " 687,\n",
       " 690,\n",
       " 693,\n",
       " 695,\n",
       " 696,\n",
       " 699,\n",
       " 700,\n",
       " 702,\n",
       " 705,\n",
       " 708,\n",
       " 710,\n",
       " 711,\n",
       " 714,\n",
       " 715,\n",
       " 717,\n",
       " 720,\n",
       " 723,\n",
       " 725,\n",
       " 726,\n",
       " 729,\n",
       " 730,\n",
       " 732,\n",
       " 735,\n",
       " 738,\n",
       " 740,\n",
       " 741,\n",
       " 744,\n",
       " 745,\n",
       " 747,\n",
       " 750,\n",
       " 753,\n",
       " 755,\n",
       " 756,\n",
       " 759,\n",
       " 760,\n",
       " 762,\n",
       " 765,\n",
       " 768,\n",
       " 770,\n",
       " 771,\n",
       " 774,\n",
       " 775,\n",
       " 777,\n",
       " 780,\n",
       " 783,\n",
       " 785,\n",
       " 786,\n",
       " 789,\n",
       " 790,\n",
       " 792,\n",
       " 795,\n",
       " 798,\n",
       " 800,\n",
       " 801,\n",
       " 804,\n",
       " 805,\n",
       " 807,\n",
       " 810,\n",
       " 813,\n",
       " 815,\n",
       " 816,\n",
       " 819,\n",
       " 820,\n",
       " 822,\n",
       " 825,\n",
       " 828,\n",
       " 830,\n",
       " 831,\n",
       " 834,\n",
       " 835,\n",
       " 837,\n",
       " 840,\n",
       " 843,\n",
       " 845,\n",
       " 846,\n",
       " 849,\n",
       " 850,\n",
       " 852,\n",
       " 855,\n",
       " 858,\n",
       " 860,\n",
       " 861,\n",
       " 864,\n",
       " 865,\n",
       " 867,\n",
       " 870,\n",
       " 873,\n",
       " 875,\n",
       " 876,\n",
       " 879,\n",
       " 880,\n",
       " 882,\n",
       " 885,\n",
       " 888,\n",
       " 890,\n",
       " 891,\n",
       " 894,\n",
       " 895,\n",
       " 897,\n",
       " 900,\n",
       " 903,\n",
       " 905,\n",
       " 906,\n",
       " 909,\n",
       " 910,\n",
       " 912,\n",
       " 915,\n",
       " 918,\n",
       " 920,\n",
       " 921,\n",
       " 924,\n",
       " 925,\n",
       " 927,\n",
       " 930,\n",
       " 933,\n",
       " 935,\n",
       " 936,\n",
       " 939,\n",
       " 940,\n",
       " 942,\n",
       " 945,\n",
       " 948,\n",
       " 950,\n",
       " 951,\n",
       " 954,\n",
       " 955,\n",
       " 957,\n",
       " 960,\n",
       " 963,\n",
       " 965,\n",
       " 966,\n",
       " 969,\n",
       " 970,\n",
       " 972,\n",
       " 975,\n",
       " 978,\n",
       " 980,\n",
       " 981,\n",
       " 984,\n",
       " 985,\n",
       " 987,\n",
       " 990,\n",
       " 993,\n",
       " 995,\n",
       " 996,\n",
       " 999]"
      ]
     },
     "execution_count": 89,
     "metadata": {},
     "output_type": "execute_result"
    }
   ],
   "source": [
    "multiples_below_1k"
   ]
  },
  {
   "cell_type": "code",
   "execution_count": 91,
   "metadata": {},
   "outputs": [
    {
     "data": {
      "text/plain": [
       "233168"
      ]
     },
     "execution_count": 91,
     "metadata": {},
     "output_type": "execute_result"
    }
   ],
   "source": [
    "total_sum = sum(multiples_below_1k)\n",
    "total_sum"
   ]
  },
  {
   "cell_type": "markdown",
   "metadata": {},
   "source": [
    "# Bonus: Create a dictionary only with one key (name) which value is its age"
   ]
  },
  {
   "cell_type": "code",
   "execution_count": 108,
   "metadata": {},
   "outputs": [],
   "source": [
    "my_dict = dict()"
   ]
  },
  {
   "cell_type": "code",
   "execution_count": 109,
   "metadata": {},
   "outputs": [],
   "source": [
    "for p in people:\n",
    "    name = p[\"name\"]\n",
    "    age = p[\"age\"]\n",
    "    my_dict[name] = age"
   ]
  },
  {
   "cell_type": "code",
   "execution_count": 110,
   "metadata": {},
   "outputs": [
    {
     "data": {
      "text/plain": [
       "{'Juan': 35, 'Pepe': 28, 'Sonia': 42, 'Lucía': 23, 'Leo': 56}"
      ]
     },
     "execution_count": 110,
     "metadata": {},
     "output_type": "execute_result"
    }
   ],
   "source": [
    "my_dict"
   ]
  },
  {
   "cell_type": "code",
   "execution_count": 94,
   "metadata": {},
   "outputs": [
    {
     "name": "stdout",
     "output_type": "stream",
     "text": [
      "23 >> pepe\n",
      "45 >> juan\n",
      "33 >> pedro\n"
     ]
    }
   ],
   "source": [
    "lst_names = ['pepe', 'juan', 'pedro']\n",
    "lst_edad = [23, 45, 33]\n",
    "for names, edad in zip(lst_names, lst_edad):\n",
    "    print(edad, '>>' ,names )"
   ]
  },
  {
   "cell_type": "code",
   "execution_count": 96,
   "metadata": {},
   "outputs": [
    {
     "data": {
      "text/plain": [
       "['Juan', 'Pepe', 'Sonia', 'Lucía', 'Leo']"
      ]
     },
     "execution_count": 96,
     "metadata": {},
     "output_type": "execute_result"
    }
   ],
   "source": [
    "list_names = []\n",
    "for person in people:\n",
    "    list_names.append(person['name'])\n",
    "list_names"
   ]
  },
  {
   "cell_type": "code",
   "execution_count": 97,
   "metadata": {},
   "outputs": [
    {
     "data": {
      "text/plain": [
       "[35, 28, 42, 23, 56]"
      ]
     },
     "execution_count": 97,
     "metadata": {},
     "output_type": "execute_result"
    }
   ],
   "source": [
    "list_edad = []\n",
    "for person in people:\n",
    "    list_edad.append(person['age'])\n",
    "list_edad"
   ]
  },
  {
   "cell_type": "code",
   "execution_count": 105,
   "metadata": {},
   "outputs": [],
   "source": [
    "people_and_ages = dict()\n",
    "for name, edad in zip(list_names, list_edad):\n",
    "    people_and_ages[name] = edad"
   ]
  },
  {
   "cell_type": "code",
   "execution_count": 106,
   "metadata": {},
   "outputs": [
    {
     "data": {
      "text/plain": [
       "{'Juan': 35, 'Pepe': 28, 'Sonia': 42, 'Lucía': 23, 'Leo': 56}"
      ]
     },
     "execution_count": 106,
     "metadata": {},
     "output_type": "execute_result"
    }
   ],
   "source": [
    "people_and_ages"
   ]
  }
 ],
 "metadata": {
  "kernelspec": {
   "display_name": "Python 3 (ipykernel)",
   "language": "python",
   "name": "python3"
  },
  "language_info": {
   "codemirror_mode": {
    "name": "ipython",
    "version": 3
   },
   "file_extension": ".py",
   "mimetype": "text/x-python",
   "name": "python",
   "nbconvert_exporter": "python",
   "pygments_lexer": "ipython3",
   "version": "3.8.10"
  },
  "toc": {
   "base_numbering": 1,
   "nav_menu": {},
   "number_sections": false,
   "sideBar": true,
   "skip_h1_title": false,
   "title_cell": "Table of Contents",
   "title_sidebar": "Contents",
   "toc_cell": false,
   "toc_position": {},
   "toc_section_display": true,
   "toc_window_display": true
  },
  "varInspector": {
   "cols": {
    "lenName": 16,
    "lenType": 16,
    "lenVar": 40
   },
   "kernels_config": {
    "python": {
     "delete_cmd_postfix": "",
     "delete_cmd_prefix": "del ",
     "library": "var_list.py",
     "varRefreshCmd": "print(var_dic_list())"
    },
    "r": {
     "delete_cmd_postfix": ") ",
     "delete_cmd_prefix": "rm(",
     "library": "var_list.r",
     "varRefreshCmd": "cat(var_dic_list()) "
    }
   },
   "types_to_exclude": [
    "module",
    "function",
    "builtin_function_or_method",
    "instance",
    "_Feature"
   ],
   "window_display": false
  }
 },
 "nbformat": 4,
 "nbformat_minor": 4
}
